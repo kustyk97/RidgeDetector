{
 "cells": [
  {
   "cell_type": "code",
   "execution_count": 1,
   "metadata": {},
   "outputs": [],
   "source": [
    "import cv2 as cv\n",
    "import numpy as np \n",
    "\n",
    "import matplotlib.pyplot as plt\n",
    "\n",
    "import os\n",
    "from Map import Map"
   ]
  },
  {
   "cell_type": "code",
   "execution_count": 2,
   "metadata": {},
   "outputs": [],
   "source": [
    "PATH_TO_FOLDER = \"./SrcData\"\n",
    "SIZE_OF_SHEET = [453, 465]\n",
    "CELL_SIZE = 5"
   ]
  },
  {
   "cell_type": "code",
   "execution_count": 3,
   "metadata": {},
   "outputs": [],
   "source": [
    "SQUARES_INDEX = {1: ['A', 'a', '1', '74'], 2: ['B', 'b', '2', '75'], 3:['C', 'c', '3', '86'], 4: ['D', 'd', '4', '87']}"
   ]
  },
  {
   "cell_type": "code",
   "execution_count": 4,
   "metadata": {},
   "outputs": [],
   "source": [
    "def GetSheet(path: str):\n",
    "\n",
    "    _map = Map(path)\n",
    "    \n",
    "    if _map.GetCellSize() != CELL_SIZE:\n",
    "\n",
    "        _map.SetCellSize(CELL_SIZE)\n",
    "\n",
    "    _map.SetMapSize(SIZE_OF_SHEET)\n",
    "\n",
    "    return _map.GetData()"
   ]
  },
  {
   "cell_type": "code",
   "execution_count": 5,
   "metadata": {},
   "outputs": [],
   "source": [
    "def unique(srcList):\n",
    "    \n",
    "    result = []\n",
    "    for element in srcList:\n",
    "        if (element in result) is False:\n",
    "            result.append(element)\n",
    "            \n",
    "    return result\n",
    "\n",
    "def GetSquareIndex(value, squaresIndex):\n",
    "\n",
    "    for key, squareIndex in zip(squaresIndex.keys(), squaresIndex.values()):\n",
    "        if value in squareIndex:\n",
    "            return key\n",
    "\n",
    "    return 1\n",
    "\n",
    "    # concat squares\n",
    "def GetDiamension(squares, axis):\n",
    "\n",
    "    if axis == 0:\n",
    "        table1 = 1\n",
    "        table2 = 2\n",
    "        table3 = 3\n",
    "        table4 = 4\n",
    "    else:   \n",
    "        table1 = 1\n",
    "        table2 = 3\n",
    "        table3 = 2\n",
    "        table4 = 4\n",
    "    #get diamensions\n",
    "    resultRange = -1\n",
    "    resultRangeLeft = -1\n",
    "    resultRangeRight = -1\n",
    "\n",
    "\n",
    "    if table1 in squares and table3 in squares:\n",
    "        resultRange = squares[table1].shape[axis] + squares[table3].shape[axis]\n",
    "    elif table1 in squares:\n",
    "        resultRangeLeft = squares[table1].shape[axis]*2\n",
    "    elif table3 in squares:\n",
    "        resultRangeLeft = squares[table3].shape[axis]*2\n",
    "\n",
    "    if table2 in squares and table4 in squares:\n",
    "        if resultRange < squares[table2].shape[axis] + squares[table4].shape[axis]:\n",
    "            resultRange = squares[table2].shape[axis] + squares[table4].shape[axis]\n",
    "    elif table2 in squares:\n",
    "        resultRangeRight = squares[table2].shape[axis]*2\n",
    "    elif table4 in squares:\n",
    "        resultRangeRight = squares[table4].shape[axis]*2\n",
    "        \n",
    "    \n",
    "    if resultRange == -1:\n",
    "        if resultRangeLeft != -1:\n",
    "            resultRange = resultRangeLeft\n",
    "        if resultRangeRight != -1:\n",
    "            if resultRange > resultRangeRight or resultRange == -1:\n",
    "                resultRange = resultRangeRight\n",
    "\n",
    "    return resultRange"
   ]
  },
  {
   "cell_type": "code",
   "execution_count": 6,
   "metadata": {},
   "outputs": [],
   "source": [
    "def InsertSquaresIntoBiggerSquare(squares, square):\n",
    "    rows, cols = square.shape\n",
    "    centreX, centreY = int(rows/2), int(cols/2)\n",
    "    if 1 in squares:\n",
    "        if centreX < squares[1].shape[0]:\n",
    "            beginX = 0\n",
    "            endX = squares[1].shape[0]\n",
    "        else:\n",
    "            beginX = centreX - squares[1].shape[0]\n",
    "            endX = centreX\n",
    "\n",
    "        if centreY < squares[1].shape[1]:\n",
    "            beginY = 0\n",
    "            endY = squares[1].shape[1]\n",
    "        else:\n",
    "            beginY = centreY - squares[1].shape[1]\n",
    "            endY = centreY\n",
    "        square[beginX:endX,beginY:endY] = squares[1]\n",
    "    if 2 in squares:\n",
    "        if centreX < squares[2].shape[0]:\n",
    "            beginX = 0\n",
    "            endX = squares[2].shape[0]\n",
    "        else:\n",
    "            beginX = centreX - squares[2].shape[0]\n",
    "            endX = centreX\n",
    "\n",
    "        if square.shape[1] - centreY < squares[2].shape[1]:\n",
    "            beginY = square.shape[1] - squares[2].shape[1]\n",
    "            endY = square.shape[1]\n",
    "        else:\n",
    "            beginY = centreY\n",
    "            endY = centreY + squares[2].shape[1]\n",
    "\n",
    "        square[beginX:endX,beginY:endY] = squares[2]\n",
    "    if 3 in squares:\n",
    "\n",
    "        if square.shape[0] - centreX < squares[3].shape[0]:\n",
    "            beginX = square.shape[0] - squares[3].shape[0]\n",
    "            endX = square.shape[0]\n",
    "        else:\n",
    "            beginX = centreX\n",
    "            endX = centreX + squares[3].shape[0]\n",
    "\n",
    "        if centreY < squares[3].shape[1]:\n",
    "            beginY = 0\n",
    "            endY = squares[3].shape[1]\n",
    "        else:\n",
    "            beginY = centreY - squares[3].shape[1]\n",
    "            endY = centreY\n",
    "        square[beginX:endX,beginY:endY] = squares[3]\n",
    "    if 4 in squares:\n",
    "        if square.shape[0] - centreX < squares[4].shape[0]:\n",
    "            beginX = square.shape[0] - squares[4].shape[0]\n",
    "            endX = square.shape[0]\n",
    "        else:\n",
    "            beginX = centreX\n",
    "            endX = centreX + squares[4].shape[0]\n",
    "\n",
    "        if square.shape[1] - centreY < squares[4].shape[1]:\n",
    "            beginY = square.shape[1] - squares[4].shape[1]\n",
    "            endY = square.shape[1]\n",
    "        else:\n",
    "            beginY = centreY\n",
    "            endY = centreY + squares[4].shape[1]\n",
    "        \n",
    "        square[beginX:endX, beginY:endY] = squares[4]\n",
    "    return square"
   ]
  },
  {
   "cell_type": "code",
   "execution_count": 7,
   "metadata": {},
   "outputs": [],
   "source": [
    "\n",
    "def GetSheetMap(filePaths, index):\n",
    "    #filter by square milion\n",
    "    coordValues = [filePath[\"coords\"][index]  for filePath in filePaths.values()]\n",
    "    coordValues = unique(coordValues)\n",
    "    coordValues.sort()\n",
    "\n",
    "    squares = {}\n",
    "    if index == 6:\n",
    "        for i, filePath in zip(filePaths.keys(), filePaths.values()):\n",
    "            square = GetSheet(filePath[\"path\"])\n",
    "            squares[GetSquareIndex(filePath[\"coords\"][index], SQUARES_INDEX)] = square\n",
    "    else:\n",
    "        for coordValue in coordValues:\n",
    "            filtredFilePaths= {i: filePath for i, filePath in zip(filePaths.keys(), filePaths.values()) if filePath[\"coords\"][index] == coordValue}\n",
    "            square = GetSheetMap(filtredFilePaths, index + 1) \n",
    "            squares[GetSquareIndex(coordValue, SQUARES_INDEX)] = square\n",
    "\n",
    "\n",
    "    xRange = GetDiamension(squares, 0)\n",
    "    yRange = GetDiamension(squares, 1)\n",
    "\n",
    "    biggerSquare = np.zeros((xRange, yRange))\n",
    "    biggerSquare[:,:] = np.nan\n",
    "    biggerSquare = InsertSquaresIntoBiggerSquare(squares, biggerSquare)\n",
    "    return biggerSquare\n"
   ]
  },
  {
   "cell_type": "code",
   "execution_count": 8,
   "metadata": {},
   "outputs": [],
   "source": [
    "filePaths = os.listdir(PATH_TO_FOLDER)\n",
    "\n",
    "filePaths.sort()\n",
    "filePaths = {i: {\"path\": os.path.join(PATH_TO_FOLDER, path), \"coords\": path.split(\".\")[0].split(\"-\")}  for i, path in enumerate(filePaths)}"
   ]
  },
  {
   "cell_type": "code",
   "execution_count": 9,
   "metadata": {},
   "outputs": [],
   "source": [
    "data = GetSheetMap(filePaths, 2)"
   ]
  },
  {
   "cell_type": "markdown",
   "metadata": {},
   "source": [
    "### Save map"
   ]
  },
  {
   "cell_type": "code",
   "execution_count": 11,
   "metadata": {},
   "outputs": [],
   "source": [
    "data = np.nan_to_num(data, nan=-1)\n",
    "data = data[~np.all(data == -1, axis=1)]\n",
    "# Usunięcie kolumn wypełnionych tylko zerami\n",
    "data = data[:, ~np.all(data == -1, axis=0)]\n",
    "data[data== -1] = np.nan\n",
    "\n",
    "np.save(\"Data/ConcatedMap.npy\", data)"
   ]
  },
  {
   "cell_type": "code",
   "execution_count": null,
   "metadata": {},
   "outputs": [],
   "source": [
    "data = np.nan_to_num(data, nan=0)\n",
    "plt.imsave(\"Results/ConcatedMap.png\", data)"
   ]
  }
 ],
 "metadata": {
  "kernelspec": {
   "display_name": "AI",
   "language": "python",
   "name": "python3"
  },
  "language_info": {
   "codemirror_mode": {
    "name": "ipython",
    "version": 3
   },
   "file_extension": ".py",
   "mimetype": "text/x-python",
   "name": "python",
   "nbconvert_exporter": "python",
   "pygments_lexer": "ipython3",
   "version": "3.1.-1"
  }
 },
 "nbformat": 4,
 "nbformat_minor": 2
}
