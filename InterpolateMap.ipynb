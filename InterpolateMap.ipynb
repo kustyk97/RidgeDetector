{
 "cells": [
  {
   "cell_type": "code",
   "execution_count": null,
   "metadata": {},
   "outputs": [],
   "source": [
    "import cv2 as cv\n",
    "import numpy as np\n",
    "from scipy.interpolate import griddata\n",
    "from matplotlib import pyplot as plt\n",
    "from scipy import ndimage"
   ]
  },
  {
   "cell_type": "code",
   "execution_count": null,
   "metadata": {},
   "outputs": [],
   "source": [
    "SIZE_OF_CHUNK = 1000"
   ]
  },
  {
   "cell_type": "code",
   "execution_count": null,
   "metadata": {},
   "outputs": [],
   "source": [
    "data = np.load(\"Data/CropConcatData.npy\")\n",
    "mask = ~np.isnan(data)"
   ]
  },
  {
   "cell_type": "code",
   "execution_count": null,
   "metadata": {},
   "outputs": [],
   "source": [
    "plt.imshow(data)"
   ]
  },
  {
   "cell_type": "code",
   "execution_count": null,
   "metadata": {},
   "outputs": [],
   "source": [
    "#Select the \"iterations\" value so that the holes inside the map disappear\n",
    "ITERATIONS = 3"
   ]
  },
  {
   "cell_type": "code",
   "execution_count": null,
   "metadata": {},
   "outputs": [],
   "source": [
    "struct = ndimage.generate_binary_structure(2, 2)\n",
    "mask = ndimage.binary_dilation(mask, struct, iterations=ITERATIONS)\n",
    "mask = ndimage.binary_erosion(mask, struct, iterations=ITERATIONS)"
   ]
  },
  {
   "cell_type": "code",
   "execution_count": null,
   "metadata": {},
   "outputs": [],
   "source": [
    "\n",
    "plt.imshow(mask)\n"
   ]
  },
  {
   "cell_type": "markdown",
   "metadata": {},
   "source": [
    "### Interpolate"
   ]
  },
  {
   "cell_type": "code",
   "execution_count": null,
   "metadata": {},
   "outputs": [],
   "source": [
    "rows, cols = data.shape\n",
    "\n",
    "rowsData = np.array_split(data, range(SIZE_OF_CHUNK, rows, SIZE_OF_CHUNK), axis=0)\n",
    "rowsMask = np.array_split(mask, range(SIZE_OF_CHUNK, rows, SIZE_OF_CHUNK), axis=0)\n",
    "   \n",
    "for rowData, rowMask in zip(rowsData, rowsMask):\n",
    "    colsData = np.array_split(rowData, range(SIZE_OF_CHUNK, cols, SIZE_OF_CHUNK), axis=1)\n",
    "    colsMask = np.array_split(rowMask, range(SIZE_OF_CHUNK, cols, SIZE_OF_CHUNK), axis=1)\n",
    "    for colData, colMask, in zip(colsData, colsMask):\n",
    "        clipMask =  np.logical_and(np.isnan(colData), colMask)\n",
    "        nan_indices = np.where(clipMask == True)\n",
    "        not_nan_indices = np.argwhere(~np.isnan(colData))\n",
    "        not_nan_values = colData[~np.isnan(colData)]\n",
    "        if nan_indices[0].shape[0] != 0:\n",
    "\n",
    "            if len(not_nan_indices) != 0:\n",
    "                colData[nan_indices] = griddata(not_nan_indices, not_nan_values, nan_indices, method='linear' )\n",
    "    rowData= np.concatenate(colsData, 1)\n",
    "data = np.concatenate(rowsData)"
   ]
  },
  {
   "cell_type": "markdown",
   "metadata": {},
   "source": [
    "### Save data"
   ]
  },
  {
   "cell_type": "code",
   "execution_count": null,
   "metadata": {},
   "outputs": [],
   "source": [
    "np.save(\"Data/InterpolatedData.npy\", data)"
   ]
  },
  {
   "cell_type": "code",
   "execution_count": null,
   "metadata": {},
   "outputs": [],
   "source": [
    "data = np.nan_to_num(data, nan=0)\n",
    "plt.imsave(\"Results/InterpolatedMap.png\", data)"
   ]
  }
 ],
 "metadata": {
  "kernelspec": {
   "display_name": "AI",
   "language": "python",
   "name": "python3"
  },
  "language_info": {
   "codemirror_mode": {
    "name": "ipython",
    "version": 3
   },
   "file_extension": ".py",
   "mimetype": "text/x-python",
   "name": "python",
   "nbconvert_exporter": "python",
   "pygments_lexer": "ipython3",
   "version": "3.1.-1"
  }
 },
 "nbformat": 4,
 "nbformat_minor": 2
}
