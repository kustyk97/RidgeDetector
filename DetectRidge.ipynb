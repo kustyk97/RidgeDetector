{
 "cells": [
  {
   "cell_type": "code",
   "execution_count": 1,
   "metadata": {},
   "outputs": [
    {
     "name": "stderr",
     "output_type": "stream",
     "text": [
      "/home/kustyk97/miniconda3/envs/AI/lib/python3.10/site-packages/scipy/__init__.py:146: UserWarning: A NumPy version >=1.17.3 and <1.25.0 is required for this version of SciPy (detected version 1.26.3\n",
      "  warnings.warn(f\"A NumPy version >={np_minversion} and <{np_maxversion}\"\n"
     ]
    }
   ],
   "source": [
    "import numpy as np\n",
    "import cv2 as cv\n",
    "from matplotlib import pyplot as plt\n",
    "from scipy import ndimage\n",
    "import math"
   ]
  },
  {
   "cell_type": "code",
   "execution_count": null,
   "metadata": {},
   "outputs": [],
   "source": [
    "SIZE = 29 #this is the size of the square in which it is detected valley or ridge \n",
    "MINSLOPE = 0.1\n",
    "PATH_TO_DATA = \"Data/CropData.npy\""
   ]
  },
  {
   "cell_type": "code",
   "execution_count": 6,
   "metadata": {},
   "outputs": [],
   "source": [
    "data  = np.load(PATH_TO_DATA)"
   ]
  },
  {
   "cell_type": "code",
   "execution_count": null,
   "metadata": {},
   "outputs": [],
   "source": [
    "plt.imshow(data)"
   ]
  },
  {
   "cell_type": "code",
   "execution_count": 8,
   "metadata": {},
   "outputs": [],
   "source": [
    "def IsRidgeOnDirection(value1, value2,minSlope):\n",
    "    if value1 < -minSlope and value2 > minSlope:\n",
    "        return True\n",
    "    return False\n",
    "def IsValleyOnDirection(value1, value2,minSlope):\n",
    "    if value1 > minSlope and value2 < -minSlope:\n",
    "        return True\n",
    "    return False\n",
    "def IsRidge(array, directions, centralPoint,minSlope):\n",
    "\n",
    "    for direction in directions:\n",
    "        distance1 = math.sqrt((direction[0][0] - centralPoint[0])**2 + (direction[0][1] - centralPoint[1])**2 )\n",
    "        distance2 = math.sqrt((direction[1][0] - centralPoint[0])**2 + (direction[1][1] - centralPoint[1])**2 )\n",
    "        gradient1 = (array[direction[0][0], direction[0][1]] - array[centralPoint[0], centralPoint[1]])/distance1\n",
    "        gradient2 = (array[centralPoint[0], centralPoint[1]] - array[direction[1][0], direction[1][1]])/distance2\n",
    "        result = IsRidgeOnDirection(gradient1, gradient2,minSlope)\n",
    "        if result == True:\n",
    "            return True\n",
    "    return False\n",
    "def IsValley(array, directions, centralPoint,minSlope):\n",
    "\n",
    "    for direction in directions:\n",
    "        distance1 = math.sqrt((direction[0][0] - centralPoint[0])**2 + (direction[0][1] - centralPoint[1])**2 )\n",
    "        distance2 = math.sqrt((direction[1][0] - centralPoint[0])**2 + (direction[1][1] - centralPoint[1])**2 )\n",
    "        gradient1 = (array[direction[0][0], direction[0][1]] - array[centralPoint[0], centralPoint[1]])/distance1\n",
    "        gradient2 = (array[centralPoint[0], centralPoint[1]] - array[direction[1][0], direction[1][1]])/distance2\n",
    "        result = IsValleyOnDirection(gradient1, gradient2,minSlope)\n",
    "        if result == True:\n",
    "            return True\n",
    "    return False"
   ]
  },
  {
   "cell_type": "code",
   "execution_count": 13,
   "metadata": {},
   "outputs": [],
   "source": [
    "rows, cols = data.shape\n",
    "ridges = np.zeros_like(data, dtype=bool)\n",
    "valleys = np.zeros_like(data, dtype=bool)\n",
    "radious = int(SIZE/2)\n",
    "centralPoint = [radious,radious]\n",
    "directions = []\n",
    "# for i in range (0, size-1):\n",
    "#     point1 = [i, 0]\n",
    "#     point2 =[size-1-i, size-1]\n",
    "#     directions.append([point1, point2])\n",
    "#     point1 = [0, i]\n",
    "#     point2 = [size-1, size-1-i]\n",
    "#     directions.append([point1, point2])\n",
    "directions = [[[0,0],[SIZE-1,SIZE-1]],\n",
    "        [[SIZE-1,0], [0,SIZE-1]],\n",
    "        [[radious,0], [radious,SIZE-1]],\n",
    "        [[0,radious], [SIZE-1,radious]]]"
   ]
  },
  {
   "cell_type": "code",
   "execution_count": null,
   "metadata": {},
   "outputs": [],
   "source": [
    "ridges = [[IsRidge(data[i-radious:i+radious+1, j-radious:j+radious+1], directions=directions, centralPoint=centralPoint, minSlope=MINSLOPE)\n",
    "        for j in range(radious, cols-radious-1)]\n",
    "        for i in range(radious, rows-radious-1)]\n",
    "valleys = [[IsValley(data[i-radious:i+radious+1, j-radious:j+radious+1], directions=directions, centralPoint=centralPoint, minSlope=MINSLOPE)\n",
    "        for j in range(radious, cols-radious-1)]\n",
    "        for i in range(radious, rows-radious-1)]"
   ]
  },
  {
   "cell_type": "code",
   "execution_count": null,
   "metadata": {},
   "outputs": [],
   "source": [
    "np.save(\"Data/ValleyCross\" + str(SIZE) + \"x\" + str(SIZE) +\".npy\", valleys)\n",
    "np.save(\"Data/RidgesCross\" + str(SIZE) + \"x\" + str(SIZE) +\".npy\", ridges)\n",
    "plt.imsave(\"Results/RidgesCross\" + str(SIZE) + \"x\" + str(SIZE) +\".png\", ridges)\n",
    "plt.imsave(\"Results/ValleysCross\" + str(SIZE) + \"x\" + str(SIZE) +\".png\", valleys)"
   ]
  }
 ],
 "metadata": {
  "kernelspec": {
   "display_name": "AI",
   "language": "python",
   "name": "python3"
  },
  "language_info": {
   "codemirror_mode": {
    "name": "ipython",
    "version": 3
   },
   "file_extension": ".py",
   "mimetype": "text/x-python",
   "name": "python",
   "nbconvert_exporter": "python",
   "pygments_lexer": "ipython3",
   "version": "3.10.13"
  }
 },
 "nbformat": 4,
 "nbformat_minor": 2
}
